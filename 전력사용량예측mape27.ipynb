{
  "nbformat": 4,
  "nbformat_minor": 0,
  "metadata": {
    "colab": {
      "provenance": [],
      "gpuType": "T4",
      "include_colab_link": true
    },
    "kernelspec": {
      "name": "python3",
      "display_name": "Python 3"
    },
    "language_info": {
      "name": "python"
    },
    "accelerator": "GPU"
  },
  "cells": [
    {
      "cell_type": "markdown",
      "metadata": {
        "id": "view-in-github",
        "colab_type": "text"
      },
      "source": [
        "<a href=\"https://colab.research.google.com/github/jinijavac/Power-Consumption-Prediction/blob/main/%E1%84%8C%E1%85%A5%E1%86%AB%E1%84%85%E1%85%A7%E1%86%A8%E1%84%89%E1%85%A1%E1%84%8B%E1%85%AD%E1%86%BC%E1%84%85%E1%85%A3%E1%86%BC%E1%84%8B%E1%85%A8%E1%84%8E%E1%85%B3%E1%86%A8mape27.ipynb\" target=\"_parent\"><img src=\"https://colab.research.google.com/assets/colab-badge.svg\" alt=\"Open In Colab\"/></a>"
      ]
    },
    {
      "cell_type": "code",
      "execution_count": null,
      "metadata": {
        "id": "mLeknrKyt2Iu"
      },
      "outputs": [],
      "source": [
        "import math\n",
        "import numpy as np\n",
        "import pandas as pd\n",
        "from sklearn.preprocessing import StandardScaler\n",
        "from sklearn.metrics import mean_squared_error, mean_absolute_error, mean_absolute_percentage_error\n",
        "from sklearn.neural_network import MLPRegressor\n",
        "from sklearn.ensemble import RandomForestRegressor, GradientBoostingRegressor\n",
        "from sklearn.svm import SVR\n",
        "from sklearn.neighbors import KNeighborsRegressor\n",
        "from sklearn.model_selection import RandomizedSearchCV\n",
        "import multiprocessing\n",
        "import tensorflow as tf\n",
        "from tensorflow import keras\n",
        "from sklearn.ensemble import VotingRegressor\n",
        "from sklearn.ensemble import GradientBoostingRegressor\n",
        "from sklearn.model_selection import GridSearchCV\n",
        "from sklearn.metrics import make_scorer\n",
        "import matplotlib.pyplot as plt\n",
        "from sklearn.neural_network import MLPRegressor\n",
        "from sklearn.metrics import make_scorer\n",
        "from sklearn.model_selection import cross_val_score\n",
        "from keras.losses import Huber"
      ]
    },
    {
      "cell_type": "code",
      "source": [
        "# MAPE 함수 정의\n",
        "def mean_absolute_percentage_error(y_true, y_pred):\n",
        "    y_true, y_pred = np.array(y_true), np.array(y_pred)\n",
        "    return np.mean(np.abs((y_true - y_pred) / y_true)) * 100"
      ],
      "metadata": {
        "id": "iUV0TmZ2t-Pc"
      },
      "execution_count": null,
      "outputs": []
    },
    {
      "cell_type": "code",
      "source": [
        "from google.colab import files\n",
        "uploaded = files.upload()\n",
        "\n",
        "# 데이터 불러오기\n",
        "data = pd.read_csv(\"dataset_household.csv\", engine='python')"
      ],
      "metadata": {
        "colab": {
          "base_uri": "https://localhost:8080/",
          "height": 74
        },
        "id": "OU_OTlxmuBO-",
        "outputId": "cd59a2e6-e617-458b-a07f-480f86673698"
      },
      "execution_count": null,
      "outputs": [
        {
          "output_type": "display_data",
          "data": {
            "text/plain": [
              "<IPython.core.display.HTML object>"
            ],
            "text/html": [
              "\n",
              "     <input type=\"file\" id=\"files-8ee7d1d0-4d06-46ea-bae9-dd8e5cb9d585\" name=\"files[]\" multiple disabled\n",
              "        style=\"border:none\" />\n",
              "     <output id=\"result-8ee7d1d0-4d06-46ea-bae9-dd8e5cb9d585\">\n",
              "      Upload widget is only available when the cell has been executed in the\n",
              "      current browser session. Please rerun this cell to enable.\n",
              "      </output>\n",
              "      <script>// Copyright 2017 Google LLC\n",
              "//\n",
              "// Licensed under the Apache License, Version 2.0 (the \"License\");\n",
              "// you may not use this file except in compliance with the License.\n",
              "// You may obtain a copy of the License at\n",
              "//\n",
              "//      http://www.apache.org/licenses/LICENSE-2.0\n",
              "//\n",
              "// Unless required by applicable law or agreed to in writing, software\n",
              "// distributed under the License is distributed on an \"AS IS\" BASIS,\n",
              "// WITHOUT WARRANTIES OR CONDITIONS OF ANY KIND, either express or implied.\n",
              "// See the License for the specific language governing permissions and\n",
              "// limitations under the License.\n",
              "\n",
              "/**\n",
              " * @fileoverview Helpers for google.colab Python module.\n",
              " */\n",
              "(function(scope) {\n",
              "function span(text, styleAttributes = {}) {\n",
              "  const element = document.createElement('span');\n",
              "  element.textContent = text;\n",
              "  for (const key of Object.keys(styleAttributes)) {\n",
              "    element.style[key] = styleAttributes[key];\n",
              "  }\n",
              "  return element;\n",
              "}\n",
              "\n",
              "// Max number of bytes which will be uploaded at a time.\n",
              "const MAX_PAYLOAD_SIZE = 100 * 1024;\n",
              "\n",
              "function _uploadFiles(inputId, outputId) {\n",
              "  const steps = uploadFilesStep(inputId, outputId);\n",
              "  const outputElement = document.getElementById(outputId);\n",
              "  // Cache steps on the outputElement to make it available for the next call\n",
              "  // to uploadFilesContinue from Python.\n",
              "  outputElement.steps = steps;\n",
              "\n",
              "  return _uploadFilesContinue(outputId);\n",
              "}\n",
              "\n",
              "// This is roughly an async generator (not supported in the browser yet),\n",
              "// where there are multiple asynchronous steps and the Python side is going\n",
              "// to poll for completion of each step.\n",
              "// This uses a Promise to block the python side on completion of each step,\n",
              "// then passes the result of the previous step as the input to the next step.\n",
              "function _uploadFilesContinue(outputId) {\n",
              "  const outputElement = document.getElementById(outputId);\n",
              "  const steps = outputElement.steps;\n",
              "\n",
              "  const next = steps.next(outputElement.lastPromiseValue);\n",
              "  return Promise.resolve(next.value.promise).then((value) => {\n",
              "    // Cache the last promise value to make it available to the next\n",
              "    // step of the generator.\n",
              "    outputElement.lastPromiseValue = value;\n",
              "    return next.value.response;\n",
              "  });\n",
              "}\n",
              "\n",
              "/**\n",
              " * Generator function which is called between each async step of the upload\n",
              " * process.\n",
              " * @param {string} inputId Element ID of the input file picker element.\n",
              " * @param {string} outputId Element ID of the output display.\n",
              " * @return {!Iterable<!Object>} Iterable of next steps.\n",
              " */\n",
              "function* uploadFilesStep(inputId, outputId) {\n",
              "  const inputElement = document.getElementById(inputId);\n",
              "  inputElement.disabled = false;\n",
              "\n",
              "  const outputElement = document.getElementById(outputId);\n",
              "  outputElement.innerHTML = '';\n",
              "\n",
              "  const pickedPromise = new Promise((resolve) => {\n",
              "    inputElement.addEventListener('change', (e) => {\n",
              "      resolve(e.target.files);\n",
              "    });\n",
              "  });\n",
              "\n",
              "  const cancel = document.createElement('button');\n",
              "  inputElement.parentElement.appendChild(cancel);\n",
              "  cancel.textContent = 'Cancel upload';\n",
              "  const cancelPromise = new Promise((resolve) => {\n",
              "    cancel.onclick = () => {\n",
              "      resolve(null);\n",
              "    };\n",
              "  });\n",
              "\n",
              "  // Wait for the user to pick the files.\n",
              "  const files = yield {\n",
              "    promise: Promise.race([pickedPromise, cancelPromise]),\n",
              "    response: {\n",
              "      action: 'starting',\n",
              "    }\n",
              "  };\n",
              "\n",
              "  cancel.remove();\n",
              "\n",
              "  // Disable the input element since further picks are not allowed.\n",
              "  inputElement.disabled = true;\n",
              "\n",
              "  if (!files) {\n",
              "    return {\n",
              "      response: {\n",
              "        action: 'complete',\n",
              "      }\n",
              "    };\n",
              "  }\n",
              "\n",
              "  for (const file of files) {\n",
              "    const li = document.createElement('li');\n",
              "    li.append(span(file.name, {fontWeight: 'bold'}));\n",
              "    li.append(span(\n",
              "        `(${file.type || 'n/a'}) - ${file.size} bytes, ` +\n",
              "        `last modified: ${\n",
              "            file.lastModifiedDate ? file.lastModifiedDate.toLocaleDateString() :\n",
              "                                    'n/a'} - `));\n",
              "    const percent = span('0% done');\n",
              "    li.appendChild(percent);\n",
              "\n",
              "    outputElement.appendChild(li);\n",
              "\n",
              "    const fileDataPromise = new Promise((resolve) => {\n",
              "      const reader = new FileReader();\n",
              "      reader.onload = (e) => {\n",
              "        resolve(e.target.result);\n",
              "      };\n",
              "      reader.readAsArrayBuffer(file);\n",
              "    });\n",
              "    // Wait for the data to be ready.\n",
              "    let fileData = yield {\n",
              "      promise: fileDataPromise,\n",
              "      response: {\n",
              "        action: 'continue',\n",
              "      }\n",
              "    };\n",
              "\n",
              "    // Use a chunked sending to avoid message size limits. See b/62115660.\n",
              "    let position = 0;\n",
              "    do {\n",
              "      const length = Math.min(fileData.byteLength - position, MAX_PAYLOAD_SIZE);\n",
              "      const chunk = new Uint8Array(fileData, position, length);\n",
              "      position += length;\n",
              "\n",
              "      const base64 = btoa(String.fromCharCode.apply(null, chunk));\n",
              "      yield {\n",
              "        response: {\n",
              "          action: 'append',\n",
              "          file: file.name,\n",
              "          data: base64,\n",
              "        },\n",
              "      };\n",
              "\n",
              "      let percentDone = fileData.byteLength === 0 ?\n",
              "          100 :\n",
              "          Math.round((position / fileData.byteLength) * 100);\n",
              "      percent.textContent = `${percentDone}% done`;\n",
              "\n",
              "    } while (position < fileData.byteLength);\n",
              "  }\n",
              "\n",
              "  // All done.\n",
              "  yield {\n",
              "    response: {\n",
              "      action: 'complete',\n",
              "    }\n",
              "  };\n",
              "}\n",
              "\n",
              "scope.google = scope.google || {};\n",
              "scope.google.colab = scope.google.colab || {};\n",
              "scope.google.colab._files = {\n",
              "  _uploadFiles,\n",
              "  _uploadFilesContinue,\n",
              "};\n",
              "})(self);\n",
              "</script> "
            ]
          },
          "metadata": {}
        },
        {
          "output_type": "stream",
          "name": "stdout",
          "text": [
            "Saving dataset_household.csv to dataset_household.csv\n"
          ]
        }
      ]
    },
    {
      "cell_type": "code",
      "source": [
        "train_data = data.iloc[168:840, 1:12]\n",
        "test_data = data.iloc[840:, 1:12]\n",
        "\n",
        "X_train = train_data.iloc[:, :-1].values\n",
        "Y_train = train_data.iloc[:, -1].values\n",
        "X_test = test_data.iloc[:, :-1].values\n",
        "Y_test = test_data.iloc[:, -1].values"
      ],
      "metadata": {
        "id": "G6t2JU6wuDtY"
      },
      "execution_count": null,
      "outputs": []
    },
    {
      "cell_type": "code",
      "source": [
        "correlation_matrix = data.corr()\n",
        "\n",
        "consumption_correlation = correlation_matrix['Consumption']\n",
        "\n",
        "print(consumption_correlation)"
      ],
      "metadata": {
        "colab": {
          "base_uri": "https://localhost:8080/"
        },
        "id": "9hTuMM-duIlm",
        "outputId": "3187fde7-f461-456f-86f9-7bc384f86d92"
      },
      "execution_count": null,
      "outputs": [
        {
          "output_type": "stream",
          "name": "stdout",
          "text": [
            "HOTD           0.317446\n",
            "DOTW           0.003951\n",
            "Holi           0.022064\n",
            "Cons_1         0.315678\n",
            "Cons_7         0.285728\n",
            "Temp           0.127922\n",
            "Humi          -0.198323\n",
            "WS             0.101237\n",
            "WCT            0.110231\n",
            "THI            0.141165\n",
            "Consumption    1.000000\n",
            "Name: Consumption, dtype: float64\n"
          ]
        },
        {
          "output_type": "stream",
          "name": "stderr",
          "text": [
            "<ipython-input-5-eadb77c1741c>:1: FutureWarning: The default value of numeric_only in DataFrame.corr is deprecated. In a future version, it will default to False. Select only valid columns or specify the value of numeric_only to silence this warning.\n",
            "  correlation_matrix = data.corr()\n"
          ]
        }
      ]
    },
    {
      "cell_type": "code",
      "source": [
        "X_train_selected = X_train[:, [0, 3]]\n",
        "X_test_selected = X_test[:, [0, 3]]"
      ],
      "metadata": {
        "id": "AlPgd0YlDtBp"
      },
      "execution_count": null,
      "outputs": []
    },
    {
      "cell_type": "code",
      "source": [
        "scaler = StandardScaler()\n",
        "X_train_clean = scaler.fit_transform(X_train)\n",
        "X_test = scaler.transform(X_test)"
      ],
      "metadata": {
        "id": "UXZB-DdLuSkz"
      },
      "execution_count": null,
      "outputs": []
    },
    {
      "cell_type": "code",
      "source": [
        "mlp_model = MLPRegressor(\n",
        "    hidden_layer_sizes=(7, 7),\n",
        "    activation='relu',\n",
        "    solver='adam',\n",
        "    alpha=0.0001,\n",
        "    batch_size=128,\n",
        "    learning_rate='constant',\n",
        "    random_state=42\n",
        ")\n",
        "\n",
        "\n",
        "scoring = make_scorer(mean_absolute_percentage_error, greater_is_better=False)\n",
        "\n",
        "mape_scores = cross_val_score(mlp_model, X_train, Y_train, cv=5, scoring=scoring)\n",
        "\n",
        "mean_mape = -mape_scores.mean()\n",
        "print(\"MAPE with fixed hyperparameters:\", mean_mape)"
      ],
      "metadata": {
        "colab": {
          "base_uri": "https://localhost:8080/"
        },
        "id": "JCFBy7Xa1x92",
        "outputId": "0e55e371-995b-4fbd-ddf0-d13c8bbee243"
      },
      "execution_count": null,
      "outputs": [
        {
          "output_type": "stream",
          "name": "stderr",
          "text": [
            "/usr/local/lib/python3.10/dist-packages/sklearn/neural_network/_multilayer_perceptron.py:686: ConvergenceWarning: Stochastic Optimizer: Maximum iterations (200) reached and the optimization hasn't converged yet.\n",
            "  warnings.warn(\n",
            "/usr/local/lib/python3.10/dist-packages/sklearn/neural_network/_multilayer_perceptron.py:686: ConvergenceWarning: Stochastic Optimizer: Maximum iterations (200) reached and the optimization hasn't converged yet.\n",
            "  warnings.warn(\n",
            "/usr/local/lib/python3.10/dist-packages/sklearn/neural_network/_multilayer_perceptron.py:686: ConvergenceWarning: Stochastic Optimizer: Maximum iterations (200) reached and the optimization hasn't converged yet.\n",
            "  warnings.warn(\n"
          ]
        },
        {
          "output_type": "stream",
          "name": "stdout",
          "text": [
            "MAPE with fixed hyperparameters: 59.99255490659236\n"
          ]
        },
        {
          "output_type": "stream",
          "name": "stderr",
          "text": [
            "/usr/local/lib/python3.10/dist-packages/sklearn/neural_network/_multilayer_perceptron.py:686: ConvergenceWarning: Stochastic Optimizer: Maximum iterations (200) reached and the optimization hasn't converged yet.\n",
            "  warnings.warn(\n"
          ]
        }
      ]
    },
    {
      "cell_type": "code",
      "source": [
        "mlp_model.fit(X_train_selected, Y_train)\n",
        "\n",
        "mlp_pred = mlp_model.predict(X_test_selected)"
      ],
      "metadata": {
        "colab": {
          "base_uri": "https://localhost:8080/"
        },
        "id": "3HRKj9fT0bRI",
        "outputId": "57e8f148-c506-49fd-df97-4f518c88d54d"
      },
      "execution_count": null,
      "outputs": [
        {
          "output_type": "stream",
          "name": "stderr",
          "text": [
            "/usr/local/lib/python3.10/dist-packages/sklearn/neural_network/_multilayer_perceptron.py:686: ConvergenceWarning: Stochastic Optimizer: Maximum iterations (200) reached and the optimization hasn't converged yet.\n",
            "  warnings.warn(\n"
          ]
        }
      ]
    },
    {
      "cell_type": "code",
      "source": [
        "lstm_model = keras.Sequential()\n",
        "lstm_model.add(keras.layers.LSTM(64, input_shape=(X_train.shape[1], 1), activation='relu', return_sequences=True))\n",
        "lstm_model.add(keras.layers.LSTM(64, activation='relu'))\n",
        "lstm_model.add(keras.layers.Dense(1))\n",
        "lstm_model.compile(optimizer='adam', loss='mean_squared_error')"
      ],
      "metadata": {
        "id": "U4haisAN_zUR",
        "colab": {
          "base_uri": "https://localhost:8080/"
        },
        "outputId": "0b929eb8-62ee-4198-84ed-19311963ef68"
      },
      "execution_count": null,
      "outputs": [
        {
          "output_type": "stream",
          "name": "stderr",
          "text": [
            "WARNING:tensorflow:Layer lstm will not use cuDNN kernels since it doesn't meet the criteria. It will use a generic GPU kernel as fallback when running on GPU.\n",
            "WARNING:tensorflow:Layer lstm_1 will not use cuDNN kernels since it doesn't meet the criteria. It will use a generic GPU kernel as fallback when running on GPU.\n"
          ]
        }
      ]
    },
    {
      "cell_type": "code",
      "source": [
        "# 학습률\n",
        "def learning_rate_scheduler(epoch, lr):\n",
        "    if epoch < 10:\n",
        "        return lr\n",
        "    else:\n",
        "        return lr * 0.9\n",
        "\n",
        "lr_scheduler = keras.callbacks.LearningRateScheduler(learning_rate_scheduler)\n",
        "lstm_model.fit(X_train.reshape(-1, X_train.shape[1], 1), Y_train, epochs=100, batch_size=16, callbacks=[lr_scheduler])\n",
        "\n",
        "lstm_pred = lstm_model.predict(X_test.reshape(-1, X_test.shape[1], 1))"
      ],
      "metadata": {
        "colab": {
          "base_uri": "https://localhost:8080/"
        },
        "id": "SNd2X6BKvuNV",
        "outputId": "09a3ccc7-c84c-4a8a-a5b0-f2f4c1246b35"
      },
      "execution_count": null,
      "outputs": [
        {
          "output_type": "stream",
          "name": "stdout",
          "text": [
            "Epoch 1/100\n",
            "42/42 [==============================] - 8s 24ms/step - loss: 449122.7188 - lr: 0.0010\n",
            "Epoch 2/100\n",
            "42/42 [==============================] - 1s 18ms/step - loss: 260540.8281 - lr: 0.0010\n",
            "Epoch 3/100\n",
            "42/42 [==============================] - 1s 16ms/step - loss: 241717.8281 - lr: 0.0010\n",
            "Epoch 4/100\n",
            "42/42 [==============================] - 1s 15ms/step - loss: 242584.4531 - lr: 0.0010\n",
            "Epoch 5/100\n",
            "42/42 [==============================] - 1s 16ms/step - loss: 235772.6719 - lr: 0.0010\n",
            "Epoch 6/100\n",
            "42/42 [==============================] - 1s 16ms/step - loss: 232629.3125 - lr: 0.0010\n",
            "Epoch 7/100\n",
            "42/42 [==============================] - 1s 16ms/step - loss: 234261.1875 - lr: 0.0010\n",
            "Epoch 8/100\n",
            "42/42 [==============================] - 1s 16ms/step - loss: 231044.8750 - lr: 0.0010\n",
            "Epoch 9/100\n",
            "42/42 [==============================] - 1s 16ms/step - loss: 229464.8125 - lr: 0.0010\n",
            "Epoch 10/100\n",
            "42/42 [==============================] - 1s 16ms/step - loss: 227354.6406 - lr: 0.0010\n",
            "Epoch 11/100\n",
            "42/42 [==============================] - 1s 17ms/step - loss: 239227.5938 - lr: 9.0000e-04\n",
            "Epoch 12/100\n",
            "42/42 [==============================] - 1s 16ms/step - loss: 226626.9062 - lr: 8.1000e-04\n",
            "Epoch 13/100\n",
            "42/42 [==============================] - 1s 16ms/step - loss: 222509.1719 - lr: 7.2900e-04\n",
            "Epoch 14/100\n",
            "42/42 [==============================] - 1s 16ms/step - loss: 219343.9062 - lr: 6.5610e-04\n",
            "Epoch 15/100\n",
            "42/42 [==============================] - 1s 16ms/step - loss: 219186.8594 - lr: 5.9049e-04\n",
            "Epoch 16/100\n",
            "42/42 [==============================] - 1s 18ms/step - loss: 218744.7188 - lr: 5.3144e-04\n",
            "Epoch 17/100\n",
            "42/42 [==============================] - 1s 25ms/step - loss: 218860.1719 - lr: 4.7830e-04\n",
            "Epoch 18/100\n",
            "42/42 [==============================] - 1s 24ms/step - loss: 212501.6406 - lr: 4.3047e-04\n",
            "Epoch 19/100\n",
            "42/42 [==============================] - 1s 25ms/step - loss: 212520.2812 - lr: 3.8742e-04\n",
            "Epoch 20/100\n",
            "42/42 [==============================] - 1s 19ms/step - loss: 213056.1719 - lr: 3.4868e-04\n",
            "Epoch 21/100\n",
            "42/42 [==============================] - 1s 17ms/step - loss: 211550.7812 - lr: 3.1381e-04\n",
            "Epoch 22/100\n",
            "42/42 [==============================] - 1s 16ms/step - loss: 209891.4531 - lr: 2.8243e-04\n",
            "Epoch 23/100\n",
            "42/42 [==============================] - 1s 16ms/step - loss: 210549.4688 - lr: 2.5419e-04\n",
            "Epoch 24/100\n",
            "42/42 [==============================] - 1s 17ms/step - loss: 207390.0469 - lr: 2.2877e-04\n",
            "Epoch 25/100\n",
            "42/42 [==============================] - 1s 17ms/step - loss: 208783.2656 - lr: 2.0589e-04\n",
            "Epoch 26/100\n",
            "42/42 [==============================] - 1s 16ms/step - loss: 206030.7188 - lr: 1.8530e-04\n",
            "Epoch 27/100\n",
            "42/42 [==============================] - 1s 16ms/step - loss: 204944.6875 - lr: 1.6677e-04\n",
            "Epoch 28/100\n",
            "42/42 [==============================] - 1s 16ms/step - loss: 207789.0312 - lr: 1.5009e-04\n",
            "Epoch 29/100\n",
            "42/42 [==============================] - 1s 16ms/step - loss: 204206.6719 - lr: 1.3509e-04\n",
            "Epoch 30/100\n",
            "42/42 [==============================] - 1s 17ms/step - loss: 203097.4219 - lr: 1.2158e-04\n",
            "Epoch 31/100\n",
            "42/42 [==============================] - 1s 16ms/step - loss: 205402.0312 - lr: 1.0942e-04\n",
            "Epoch 32/100\n",
            "42/42 [==============================] - 1s 16ms/step - loss: 208115.0938 - lr: 9.8477e-05\n",
            "Epoch 33/100\n",
            "42/42 [==============================] - 1s 16ms/step - loss: 204599.2188 - lr: 8.8629e-05\n",
            "Epoch 34/100\n",
            "42/42 [==============================] - 1s 24ms/step - loss: 204733.4062 - lr: 7.9766e-05\n",
            "Epoch 35/100\n",
            "42/42 [==============================] - 1s 25ms/step - loss: 203301.3750 - lr: 7.1790e-05\n",
            "Epoch 36/100\n",
            "42/42 [==============================] - 1s 25ms/step - loss: 201094.3750 - lr: 6.4611e-05\n",
            "Epoch 37/100\n",
            "42/42 [==============================] - 1s 25ms/step - loss: 201823.5312 - lr: 5.8150e-05\n",
            "Epoch 38/100\n",
            "42/42 [==============================] - 1s 18ms/step - loss: 200999.3750 - lr: 5.2335e-05\n",
            "Epoch 39/100\n",
            "42/42 [==============================] - 1s 16ms/step - loss: 198389.1719 - lr: 4.7101e-05\n",
            "Epoch 40/100\n",
            "42/42 [==============================] - 1s 16ms/step - loss: 198377.3750 - lr: 4.2391e-05\n",
            "Epoch 41/100\n",
            "42/42 [==============================] - 1s 16ms/step - loss: 197878.7812 - lr: 3.8152e-05\n",
            "Epoch 42/100\n",
            "42/42 [==============================] - 1s 17ms/step - loss: 197440.8906 - lr: 3.4337e-05\n",
            "Epoch 43/100\n",
            "42/42 [==============================] - 1s 16ms/step - loss: 198576.3125 - lr: 3.0903e-05\n",
            "Epoch 44/100\n",
            "42/42 [==============================] - 1s 16ms/step - loss: 197424.4219 - lr: 2.7813e-05\n",
            "Epoch 45/100\n",
            "42/42 [==============================] - 1s 20ms/step - loss: 197302.1875 - lr: 2.5032e-05\n",
            "Epoch 46/100\n",
            "42/42 [==============================] - 1s 20ms/step - loss: 196614.1250 - lr: 2.2528e-05\n",
            "Epoch 47/100\n",
            "42/42 [==============================] - 1s 16ms/step - loss: 196741.1719 - lr: 2.0276e-05\n",
            "Epoch 48/100\n",
            "42/42 [==============================] - 1s 17ms/step - loss: 196328.6719 - lr: 1.8248e-05\n",
            "Epoch 49/100\n",
            "42/42 [==============================] - 1s 17ms/step - loss: 196533.3438 - lr: 1.6423e-05\n",
            "Epoch 50/100\n",
            "42/42 [==============================] - 1s 16ms/step - loss: 196254.2812 - lr: 1.4781e-05\n",
            "Epoch 51/100\n",
            "42/42 [==============================] - 1s 17ms/step - loss: 196156.2812 - lr: 1.3303e-05\n",
            "Epoch 52/100\n",
            "42/42 [==============================] - 1s 23ms/step - loss: 195300.9219 - lr: 1.1973e-05\n",
            "Epoch 53/100\n",
            "42/42 [==============================] - 1s 25ms/step - loss: 195428.2188 - lr: 1.0775e-05\n",
            "Epoch 54/100\n",
            "42/42 [==============================] - 1s 25ms/step - loss: 195184.3281 - lr: 9.6977e-06\n",
            "Epoch 55/100\n",
            "42/42 [==============================] - 1s 23ms/step - loss: 194929.0469 - lr: 8.7280e-06\n",
            "Epoch 56/100\n",
            "42/42 [==============================] - 1s 16ms/step - loss: 194235.3438 - lr: 7.8552e-06\n",
            "Epoch 57/100\n",
            "42/42 [==============================] - 1s 17ms/step - loss: 194564.0781 - lr: 7.0697e-06\n",
            "Epoch 58/100\n",
            "42/42 [==============================] - 1s 16ms/step - loss: 193930.6875 - lr: 6.3627e-06\n",
            "Epoch 59/100\n",
            "42/42 [==============================] - 1s 16ms/step - loss: 193594.8281 - lr: 5.7264e-06\n",
            "Epoch 60/100\n",
            "42/42 [==============================] - 1s 16ms/step - loss: 193533.3594 - lr: 5.1538e-06\n",
            "Epoch 61/100\n",
            "42/42 [==============================] - 1s 17ms/step - loss: 193385.2969 - lr: 4.6384e-06\n",
            "Epoch 62/100\n",
            "42/42 [==============================] - 1s 16ms/step - loss: 193234.7031 - lr: 4.1746e-06\n",
            "Epoch 63/100\n",
            "42/42 [==============================] - 1s 17ms/step - loss: 193143.2188 - lr: 3.7571e-06\n",
            "Epoch 64/100\n",
            "42/42 [==============================] - 1s 17ms/step - loss: 193103.5469 - lr: 3.3814e-06\n",
            "Epoch 65/100\n",
            "42/42 [==============================] - 1s 16ms/step - loss: 193024.3281 - lr: 3.0433e-06\n",
            "Epoch 66/100\n",
            "42/42 [==============================] - 1s 16ms/step - loss: 192963.4219 - lr: 2.7389e-06\n",
            "Epoch 67/100\n",
            "42/42 [==============================] - 1s 17ms/step - loss: 192919.4844 - lr: 2.4650e-06\n",
            "Epoch 68/100\n",
            "42/42 [==============================] - 1s 17ms/step - loss: 192880.8125 - lr: 2.2185e-06\n",
            "Epoch 69/100\n",
            "42/42 [==============================] - 1s 16ms/step - loss: 192855.2344 - lr: 1.9967e-06\n",
            "Epoch 70/100\n",
            "42/42 [==============================] - 1s 24ms/step - loss: 192823.2188 - lr: 1.7970e-06\n",
            "Epoch 71/100\n",
            "42/42 [==============================] - 1s 24ms/step - loss: 192782.0781 - lr: 1.6173e-06\n",
            "Epoch 72/100\n",
            "42/42 [==============================] - 1s 26ms/step - loss: 192714.1562 - lr: 1.4556e-06\n",
            "Epoch 73/100\n",
            "42/42 [==============================] - 1s 23ms/step - loss: 192688.8594 - lr: 1.3100e-06\n",
            "Epoch 74/100\n",
            "42/42 [==============================] - 1s 16ms/step - loss: 192669.5156 - lr: 1.1790e-06\n",
            "Epoch 75/100\n",
            "42/42 [==============================] - 1s 16ms/step - loss: 192656.1875 - lr: 1.0611e-06\n",
            "Epoch 76/100\n",
            "42/42 [==============================] - 1s 16ms/step - loss: 192643.5312 - lr: 9.5501e-07\n",
            "Epoch 77/100\n",
            "42/42 [==============================] - 1s 16ms/step - loss: 192628.5469 - lr: 8.5950e-07\n",
            "Epoch 78/100\n",
            "42/42 [==============================] - 1s 17ms/step - loss: 192611.9219 - lr: 7.7355e-07\n",
            "Epoch 79/100\n",
            "42/42 [==============================] - 1s 16ms/step - loss: 192602.4688 - lr: 6.9620e-07\n",
            "Epoch 80/100\n",
            "42/42 [==============================] - 1s 17ms/step - loss: 192587.9531 - lr: 6.2658e-07\n",
            "Epoch 81/100\n",
            "42/42 [==============================] - 1s 17ms/step - loss: 192577.6094 - lr: 5.6392e-07\n",
            "Epoch 82/100\n",
            "42/42 [==============================] - 1s 16ms/step - loss: 192570.0625 - lr: 5.0753e-07\n",
            "Epoch 83/100\n",
            "42/42 [==============================] - 1s 16ms/step - loss: 192563.0781 - lr: 4.5678e-07\n",
            "Epoch 84/100\n",
            "42/42 [==============================] - 1s 16ms/step - loss: 192555.8750 - lr: 4.1110e-07\n",
            "Epoch 85/100\n",
            "42/42 [==============================] - 1s 16ms/step - loss: 192551.6719 - lr: 3.6999e-07\n",
            "Epoch 86/100\n",
            "42/42 [==============================] - 1s 17ms/step - loss: 192542.6250 - lr: 3.3299e-07\n",
            "Epoch 87/100\n",
            "42/42 [==============================] - 1s 16ms/step - loss: 192542.1562 - lr: 2.9969e-07\n",
            "Epoch 88/100\n",
            "42/42 [==============================] - 1s 24ms/step - loss: 192531.0938 - lr: 2.6972e-07\n",
            "Epoch 89/100\n",
            "42/42 [==============================] - 1s 25ms/step - loss: 192527.9219 - lr: 2.4275e-07\n",
            "Epoch 90/100\n",
            "42/42 [==============================] - 1s 24ms/step - loss: 192524.2188 - lr: 2.1847e-07\n",
            "Epoch 91/100\n",
            "42/42 [==============================] - 1s 23ms/step - loss: 192522.3594 - lr: 1.9663e-07\n",
            "Epoch 92/100\n",
            "42/42 [==============================] - 1s 16ms/step - loss: 192519.1250 - lr: 1.7696e-07\n",
            "Epoch 93/100\n",
            "42/42 [==============================] - 1s 16ms/step - loss: 192515.2344 - lr: 1.5927e-07\n",
            "Epoch 94/100\n",
            "42/42 [==============================] - 1s 16ms/step - loss: 192512.6719 - lr: 1.4334e-07\n",
            "Epoch 95/100\n",
            "42/42 [==============================] - 1s 16ms/step - loss: 192510.2812 - lr: 1.2901e-07\n",
            "Epoch 96/100\n",
            "42/42 [==============================] - 1s 16ms/step - loss: 192507.9375 - lr: 1.1611e-07\n",
            "Epoch 97/100\n",
            "42/42 [==============================] - 1s 16ms/step - loss: 192505.8906 - lr: 1.0450e-07\n",
            "Epoch 98/100\n",
            "42/42 [==============================] - 1s 16ms/step - loss: 192503.7812 - lr: 9.4046e-08\n",
            "Epoch 99/100\n",
            "42/42 [==============================] - 1s 16ms/step - loss: 192502.5781 - lr: 8.4642e-08\n",
            "Epoch 100/100\n",
            "42/42 [==============================] - 1s 16ms/step - loss: 192501.0781 - lr: 7.6177e-08\n",
            "77/77 [==============================] - 1s 5ms/step\n"
          ]
        }
      ]
    },
    {
      "cell_type": "code",
      "source": [
        "rf_model = RandomForestRegressor(random_state=42)\n",
        "gb_model = GradientBoostingRegressor(random_state=42)\n",
        "svr_model = SVR()\n",
        "knn_model = KNeighborsRegressor()"
      ],
      "metadata": {
        "id": "3Za1LhlDwNc_"
      },
      "execution_count": null,
      "outputs": []
    },
    {
      "cell_type": "code",
      "source": [
        "rf_model.fit(X_train, Y_train)\n",
        "gb_model.fit(X_train, Y_train)\n",
        "svr_model.fit(X_train, Y_train)\n",
        "knn_model.fit(X_train, Y_train)\n",
        "mlp_model.fit(X_train_selected, Y_train)\n",
        "\n",
        "rf_pred = rf_model.predict(X_test)\n",
        "gb_pred = gb_model.predict(X_test)\n",
        "svr_pred = svr_model.predict(X_test)\n",
        "knn_pred = knn_model.predict(X_test)\n",
        "mlp_pred = mlp_model.predict(X_test_selected)"
      ],
      "metadata": {
        "id": "UMzoYdInwU6_",
        "colab": {
          "base_uri": "https://localhost:8080/"
        },
        "outputId": "ec5fd4c4-884e-401d-8ae3-d7873f144bac"
      },
      "execution_count": null,
      "outputs": [
        {
          "output_type": "stream",
          "name": "stderr",
          "text": [
            "/usr/local/lib/python3.10/dist-packages/sklearn/neural_network/_multilayer_perceptron.py:686: ConvergenceWarning: Stochastic Optimizer: Maximum iterations (200) reached and the optimization hasn't converged yet.\n",
            "  warnings.warn(\n"
          ]
        }
      ]
    },
    {
      "cell_type": "code",
      "source": [
        "mlp_pred = mlp_model.predict(X_test_selected)\n",
        "lstm_pred = lstm_model.predict(X_test.reshape(-1, X_test.shape[1], 1)).reshape(-1)\n",
        "rf_pred = rf_model.predict(X_test).reshape(-1)\n",
        "gb_pred = gb_model.predict(X_test).reshape(-1)\n",
        "svr_pred = svr_model.predict(X_test).reshape(-1)\n",
        "knn_pred = knn_model.predict(X_test).reshape(-1)"
      ],
      "metadata": {
        "colab": {
          "base_uri": "https://localhost:8080/"
        },
        "id": "sOmZuo4iwhX0",
        "outputId": "9d385d5e-ffee-4f3f-f2fa-fbcc79c47b9d"
      },
      "execution_count": null,
      "outputs": [
        {
          "output_type": "stream",
          "name": "stdout",
          "text": [
            "77/77 [==============================] - 0s 5ms/step\n"
          ]
        }
      ]
    },
    {
      "cell_type": "code",
      "source": [
        "rf_mape = mean_absolute_percentage_error(Y_test, rf_pred)\n",
        "gb_mape = mean_absolute_percentage_error(Y_test, gb_pred)\n",
        "svr_mape = mean_absolute_percentage_error(Y_test, svr_pred)\n",
        "knn_mape = mean_absolute_percentage_error(Y_test, knn_pred)\n",
        "mlp_mape = mean_absolute_percentage_error(Y_test, mlp_pred)\n",
        "lstm_mape = mean_absolute_percentage_error(Y_test, lstm_pred)\n",
        "\n",
        "print(\"Random Forest MAPE:\", rf_mape)\n",
        "print(\"Gradient Boosting MAPE:\", gb_mape)\n",
        "print(\"SVR MAPE:\", svr_mape)\n",
        "print(\"K-Nearest Neighbors MAPE:\", knn_mape)\n",
        "print(\"MLP MAPE:\", mlp_mape)\n",
        "print(\"LSTM MAPE:\", lstm_mape)"
      ],
      "metadata": {
        "colab": {
          "base_uri": "https://localhost:8080/"
        },
        "id": "2h8WFshTH-l0",
        "outputId": "9063bdd9-db8c-440e-dc4b-d142c09c6291"
      },
      "execution_count": null,
      "outputs": [
        {
          "output_type": "stream",
          "name": "stdout",
          "text": [
            "Random Forest MAPE: 36.845431230019095\n",
            "Gradient Boosting MAPE: 165.24405939078684\n",
            "SVR MAPE: 31.78731582969685\n",
            "K-Nearest Neighbors MAPE: 33.08593700906121\n",
            "MLP MAPE: 43.31950042188698\n",
            "LSTM MAPE: 97.15600890957546\n"
          ]
        }
      ]
    },
    {
      "cell_type": "code",
      "source": [
        "import xgboost as xgb\n",
        "\n",
        "xgb_model = xgb.XGBRegressor(random_state=42)\n",
        "\n",
        "xgb_model.fit(X_train, Y_train)\n",
        "\n",
        "xgb_pred = xgb_model.predict(X_test)\n",
        "\n",
        "xgb_mape = mean_absolute_percentage_error(Y_test, xgb_pred)\n",
        "\n",
        "print(\"XGBoost MAPE:\", xgb_mape)"
      ],
      "metadata": {
        "colab": {
          "base_uri": "https://localhost:8080/"
        },
        "id": "WuqQA3WgDWY3",
        "outputId": "697342f5-5952-4229-b49a-1c7166fb5046"
      },
      "execution_count": null,
      "outputs": [
        {
          "output_type": "stream",
          "name": "stdout",
          "text": [
            "XGBoost MAPE: 99.9890940531119\n"
          ]
        }
      ]
    },
    {
      "cell_type": "code",
      "source": [
        "weights = [0.05, 0.087, 2.5, 0.1, 0.7, 0.09, 0.08]\n",
        "\n",
        "ensemble_pred = np.average([rf_pred, gb_pred, svr_pred, knn_pred, mlp_pred, lstm_pred, xgb_pred], weights=weights, axis=0)\n",
        "\n",
        "print(\"Ensemble Prediction:\", ensemble_pred)\n",
        "\n",
        "ensemble_mape = mean_absolute_percentage_error(Y_test, ensemble_pred)\n",
        "\n",
        "print(\"Ensemble MAPE:\", ensemble_mape)"
      ],
      "metadata": {
        "colab": {
          "base_uri": "https://localhost:8080/"
        },
        "id": "WMQE8G2XY4bF",
        "outputId": "30e9e2d7-718a-4a6b-f83a-42616ffef17e"
      },
      "execution_count": null,
      "outputs": [
        {
          "output_type": "stream",
          "name": "stdout",
          "text": [
            "Ensemble Prediction: [362.7380284  467.5111794  400.79937731 ... 334.79054423 704.7097891\n",
            " 603.76677839]\n",
            "Ensemble MAPE: 29.094770348231304\n"
          ]
        }
      ]
    },
    {
      "cell_type": "code",
      "source": [
        "rmse_combined = math.sqrt(mean_squared_error(Y_test, ensemble_pred))\n",
        "mae_combined = mean_absolute_error(Y_test, ensemble_pred)\n",
        "mape_combined = mean_absolute_percentage_error(Y_test, ensemble_pred)"
      ],
      "metadata": {
        "id": "EY8UhwWmxDog"
      },
      "execution_count": null,
      "outputs": []
    },
    {
      "cell_type": "code",
      "source": [
        "result = [[\"Ensemble\", rmse_combined, mae_combined, mape_combined]]\n",
        "result = pd.DataFrame(result, columns=[\"Model\", \"RMSE\", \"MAE\", \"MAPE\"])\n",
        "result.to_csv(\"Ensemble_Results.csv\", header=True, index=False)\n",
        "\n",
        "result"
      ],
      "metadata": {
        "colab": {
          "base_uri": "https://localhost:8080/",
          "height": 89
        },
        "id": "rppW2hFZy73I",
        "outputId": "75110606-a5d4-4b3a-91d8-902820b4e39e"
      },
      "execution_count": null,
      "outputs": [
        {
          "output_type": "execute_result",
          "data": {
            "text/plain": [
              "      Model        RMSE         MAE       MAPE\n",
              "0  Ensemble  504.106159  260.041892  29.139761"
            ],
            "text/html": [
              "\n",
              "  <div id=\"df-92110fc0-e2a0-4d79-a481-bbaba38ab76f\" class=\"colab-df-container\">\n",
              "    <div>\n",
              "<style scoped>\n",
              "    .dataframe tbody tr th:only-of-type {\n",
              "        vertical-align: middle;\n",
              "    }\n",
              "\n",
              "    .dataframe tbody tr th {\n",
              "        vertical-align: top;\n",
              "    }\n",
              "\n",
              "    .dataframe thead th {\n",
              "        text-align: right;\n",
              "    }\n",
              "</style>\n",
              "<table border=\"1\" class=\"dataframe\">\n",
              "  <thead>\n",
              "    <tr style=\"text-align: right;\">\n",
              "      <th></th>\n",
              "      <th>Model</th>\n",
              "      <th>RMSE</th>\n",
              "      <th>MAE</th>\n",
              "      <th>MAPE</th>\n",
              "    </tr>\n",
              "  </thead>\n",
              "  <tbody>\n",
              "    <tr>\n",
              "      <th>0</th>\n",
              "      <td>Ensemble</td>\n",
              "      <td>504.106159</td>\n",
              "      <td>260.041892</td>\n",
              "      <td>29.139761</td>\n",
              "    </tr>\n",
              "  </tbody>\n",
              "</table>\n",
              "</div>\n",
              "    <div class=\"colab-df-buttons\">\n",
              "\n",
              "  <div class=\"colab-df-container\">\n",
              "    <button class=\"colab-df-convert\" onclick=\"convertToInteractive('df-92110fc0-e2a0-4d79-a481-bbaba38ab76f')\"\n",
              "            title=\"Convert this dataframe to an interactive table.\"\n",
              "            style=\"display:none;\">\n",
              "\n",
              "  <svg xmlns=\"http://www.w3.org/2000/svg\" height=\"24px\" viewBox=\"0 -960 960 960\">\n",
              "    <path d=\"M120-120v-720h720v720H120Zm60-500h600v-160H180v160Zm220 220h160v-160H400v160Zm0 220h160v-160H400v160ZM180-400h160v-160H180v160Zm440 0h160v-160H620v160ZM180-180h160v-160H180v160Zm440 0h160v-160H620v160Z\"/>\n",
              "  </svg>\n",
              "    </button>\n",
              "\n",
              "  <style>\n",
              "    .colab-df-container {\n",
              "      display:flex;\n",
              "      gap: 12px;\n",
              "    }\n",
              "\n",
              "    .colab-df-convert {\n",
              "      background-color: #E8F0FE;\n",
              "      border: none;\n",
              "      border-radius: 50%;\n",
              "      cursor: pointer;\n",
              "      display: none;\n",
              "      fill: #1967D2;\n",
              "      height: 32px;\n",
              "      padding: 0 0 0 0;\n",
              "      width: 32px;\n",
              "    }\n",
              "\n",
              "    .colab-df-convert:hover {\n",
              "      background-color: #E2EBFA;\n",
              "      box-shadow: 0px 1px 2px rgba(60, 64, 67, 0.3), 0px 1px 3px 1px rgba(60, 64, 67, 0.15);\n",
              "      fill: #174EA6;\n",
              "    }\n",
              "\n",
              "    .colab-df-buttons div {\n",
              "      margin-bottom: 4px;\n",
              "    }\n",
              "\n",
              "    [theme=dark] .colab-df-convert {\n",
              "      background-color: #3B4455;\n",
              "      fill: #D2E3FC;\n",
              "    }\n",
              "\n",
              "    [theme=dark] .colab-df-convert:hover {\n",
              "      background-color: #434B5C;\n",
              "      box-shadow: 0px 1px 3px 1px rgba(0, 0, 0, 0.15);\n",
              "      filter: drop-shadow(0px 1px 2px rgba(0, 0, 0, 0.3));\n",
              "      fill: #FFFFFF;\n",
              "    }\n",
              "  </style>\n",
              "\n",
              "    <script>\n",
              "      const buttonEl =\n",
              "        document.querySelector('#df-92110fc0-e2a0-4d79-a481-bbaba38ab76f button.colab-df-convert');\n",
              "      buttonEl.style.display =\n",
              "        google.colab.kernel.accessAllowed ? 'block' : 'none';\n",
              "\n",
              "      async function convertToInteractive(key) {\n",
              "        const element = document.querySelector('#df-92110fc0-e2a0-4d79-a481-bbaba38ab76f');\n",
              "        const dataTable =\n",
              "          await google.colab.kernel.invokeFunction('convertToInteractive',\n",
              "                                                    [key], {});\n",
              "        if (!dataTable) return;\n",
              "\n",
              "        const docLinkHtml = 'Like what you see? Visit the ' +\n",
              "          '<a target=\"_blank\" href=https://colab.research.google.com/notebooks/data_table.ipynb>data table notebook</a>'\n",
              "          + ' to learn more about interactive tables.';\n",
              "        element.innerHTML = '';\n",
              "        dataTable['output_type'] = 'display_data';\n",
              "        await google.colab.output.renderOutput(dataTable, element);\n",
              "        const docLink = document.createElement('div');\n",
              "        docLink.innerHTML = docLinkHtml;\n",
              "        element.appendChild(docLink);\n",
              "      }\n",
              "    </script>\n",
              "  </div>\n",
              "\n",
              "\n",
              "  <div id=\"id_41b1f42b-bddd-45d9-9941-7288589a315f\">\n",
              "    <style>\n",
              "      .colab-df-generate {\n",
              "        background-color: #E8F0FE;\n",
              "        border: none;\n",
              "        border-radius: 50%;\n",
              "        cursor: pointer;\n",
              "        display: none;\n",
              "        fill: #1967D2;\n",
              "        height: 32px;\n",
              "        padding: 0 0 0 0;\n",
              "        width: 32px;\n",
              "      }\n",
              "\n",
              "      .colab-df-generate:hover {\n",
              "        background-color: #E2EBFA;\n",
              "        box-shadow: 0px 1px 2px rgba(60, 64, 67, 0.3), 0px 1px 3px 1px rgba(60, 64, 67, 0.15);\n",
              "        fill: #174EA6;\n",
              "      }\n",
              "\n",
              "      [theme=dark] .colab-df-generate {\n",
              "        background-color: #3B4455;\n",
              "        fill: #D2E3FC;\n",
              "      }\n",
              "\n",
              "      [theme=dark] .colab-df-generate:hover {\n",
              "        background-color: #434B5C;\n",
              "        box-shadow: 0px 1px 3px 1px rgba(0, 0, 0, 0.15);\n",
              "        filter: drop-shadow(0px 1px 2px rgba(0, 0, 0, 0.3));\n",
              "        fill: #FFFFFF;\n",
              "      }\n",
              "    </style>\n",
              "    <button class=\"colab-df-generate\" onclick=\"generateWithVariable('result')\"\n",
              "            title=\"Generate code using this dataframe.\"\n",
              "            style=\"display:none;\">\n",
              "\n",
              "  <svg xmlns=\"http://www.w3.org/2000/svg\" height=\"24px\"viewBox=\"0 0 24 24\"\n",
              "       width=\"24px\">\n",
              "    <path d=\"M7,19H8.4L18.45,9,17,7.55,7,17.6ZM5,21V16.75L18.45,3.32a2,2,0,0,1,2.83,0l1.4,1.43a1.91,1.91,0,0,1,.58,1.4,1.91,1.91,0,0,1-.58,1.4L9.25,21ZM18.45,9,17,7.55Zm-12,3A5.31,5.31,0,0,0,4.9,8.1,5.31,5.31,0,0,0,1,6.5,5.31,5.31,0,0,0,4.9,4.9,5.31,5.31,0,0,0,6.5,1,5.31,5.31,0,0,0,8.1,4.9,5.31,5.31,0,0,0,12,6.5,5.46,5.46,0,0,0,6.5,12Z\"/>\n",
              "  </svg>\n",
              "    </button>\n",
              "    <script>\n",
              "      (() => {\n",
              "      const buttonEl =\n",
              "        document.querySelector('#id_41b1f42b-bddd-45d9-9941-7288589a315f button.colab-df-generate');\n",
              "      buttonEl.style.display =\n",
              "        google.colab.kernel.accessAllowed ? 'block' : 'none';\n",
              "\n",
              "      buttonEl.onclick = () => {\n",
              "        google.colab.notebook.generateWithVariable('result');\n",
              "      }\n",
              "      })();\n",
              "    </script>\n",
              "  </div>\n",
              "\n",
              "    </div>\n",
              "  </div>\n"
            ]
          },
          "metadata": {},
          "execution_count": 19
        }
      ]
    },
    {
      "cell_type": "code",
      "source": [
        "# 시각화\n",
        "plt.figure(figsize=(10, 6))\n",
        "plt.plot(Y_test, label='Actual Consumption', color='blue')\n",
        "plt.plot(ensemble_pred, label='Ensemble Prediction', linestyle='dashed', color='red')\n",
        "plt.title('Actual Consumption vs Ensemble Prediction')\n",
        "plt.xlabel('Time')\n",
        "plt.ylabel('Consumption')\n",
        "plt.legend()\n",
        "plt.show()"
      ],
      "metadata": {
        "colab": {
          "base_uri": "https://localhost:8080/",
          "height": 564
        },
        "id": "7Vq2Vr95_1I8",
        "outputId": "6456931b-fe70-449a-dc8e-2ae6a9466c5b"
      },
      "execution_count": null,
      "outputs": [
        {
          "output_type": "display_data",
          "data": {
            "text/plain": [
              "<Figure size 1000x600 with 1 Axes>"
            ],
            "image/png": "[encoded data removed]"
          },
          "metadata": {}
        }
      ]
    }
  ]
}